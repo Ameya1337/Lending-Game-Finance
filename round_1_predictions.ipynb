{
 "cells": [
  {
   "cell_type": "code",
   "execution_count": 20,
   "metadata": {},
   "outputs": [],
   "source": [
    "import pandas as pd\n",
    "import numpy as np\n",
    "import matplotlib.pyplot as plt\n",
    "import seaborn as sns\n",
    "from sklearn.preprocessing import StandardScaler\n",
    "import joblib"
   ]
  },
  {
   "cell_type": "code",
   "execution_count": 21,
   "metadata": {},
   "outputs": [],
   "source": [
    "df = pd.read_csv(\"NewApplications_Lender3_Round1.csv\")\n",
    "\n",
    "id = df[\"id\"]"
   ]
  },
  {
   "cell_type": "code",
   "execution_count": 55,
   "metadata": {},
   "outputs": [
    {
     "data": {
      "text/plain": [
       "0             1\n",
       "1             2\n",
       "2             3\n",
       "3             4\n",
       "4             5\n",
       "          ...  \n",
       "99995     99996\n",
       "99996     99997\n",
       "99997     99998\n",
       "99998     99999\n",
       "99999    100000\n",
       "Name: id, Length: 100000, dtype: int64"
      ]
     },
     "execution_count": 55,
     "metadata": {},
     "output_type": "execute_result"
    }
   ],
   "source": [
    "id"
   ]
  },
  {
   "cell_type": "code",
   "execution_count": 22,
   "metadata": {},
   "outputs": [],
   "source": [
    "df.drop([\"id\"], axis=1, inplace=True)"
   ]
  },
  {
   "cell_type": "code",
   "execution_count": 24,
   "metadata": {},
   "outputs": [
    {
     "data": {
      "text/html": [
       "<div>\n",
       "<style scoped>\n",
       "    .dataframe tbody tr th:only-of-type {\n",
       "        vertical-align: middle;\n",
       "    }\n",
       "\n",
       "    .dataframe tbody tr th {\n",
       "        vertical-align: top;\n",
       "    }\n",
       "\n",
       "    .dataframe thead th {\n",
       "        text-align: right;\n",
       "    }\n",
       "</style>\n",
       "<table border=\"1\" class=\"dataframe\">\n",
       "  <thead>\n",
       "    <tr style=\"text-align: right;\">\n",
       "      <th></th>\n",
       "      <th>sex</th>\n",
       "      <th>employment</th>\n",
       "      <th>married</th>\n",
       "      <th>income</th>\n",
       "      <th>digital3</th>\n",
       "    </tr>\n",
       "  </thead>\n",
       "  <tbody>\n",
       "    <tr>\n",
       "      <th>0</th>\n",
       "      <td>M</td>\n",
       "      <td>employed</td>\n",
       "      <td>0</td>\n",
       "      <td>29758</td>\n",
       "      <td>0.000000</td>\n",
       "    </tr>\n",
       "    <tr>\n",
       "      <th>1</th>\n",
       "      <td>F</td>\n",
       "      <td>retired</td>\n",
       "      <td>1</td>\n",
       "      <td>6140</td>\n",
       "      <td>0.000000</td>\n",
       "    </tr>\n",
       "    <tr>\n",
       "      <th>2</th>\n",
       "      <td>F</td>\n",
       "      <td>employed</td>\n",
       "      <td>1</td>\n",
       "      <td>27186</td>\n",
       "      <td>0.000000</td>\n",
       "    </tr>\n",
       "    <tr>\n",
       "      <th>3</th>\n",
       "      <td>M</td>\n",
       "      <td>employed</td>\n",
       "      <td>1</td>\n",
       "      <td>8429</td>\n",
       "      <td>0.734011</td>\n",
       "    </tr>\n",
       "    <tr>\n",
       "      <th>4</th>\n",
       "      <td>M</td>\n",
       "      <td>retired</td>\n",
       "      <td>1</td>\n",
       "      <td>2820</td>\n",
       "      <td>0.000000</td>\n",
       "    </tr>\n",
       "    <tr>\n",
       "      <th>...</th>\n",
       "      <td>...</td>\n",
       "      <td>...</td>\n",
       "      <td>...</td>\n",
       "      <td>...</td>\n",
       "      <td>...</td>\n",
       "    </tr>\n",
       "    <tr>\n",
       "      <th>99995</th>\n",
       "      <td>M</td>\n",
       "      <td>retired</td>\n",
       "      <td>1</td>\n",
       "      <td>9027</td>\n",
       "      <td>0.213033</td>\n",
       "    </tr>\n",
       "    <tr>\n",
       "      <th>99996</th>\n",
       "      <td>M</td>\n",
       "      <td>student</td>\n",
       "      <td>0</td>\n",
       "      <td>6229</td>\n",
       "      <td>0.698103</td>\n",
       "    </tr>\n",
       "    <tr>\n",
       "      <th>99997</th>\n",
       "      <td>M</td>\n",
       "      <td>employed</td>\n",
       "      <td>1</td>\n",
       "      <td>6471</td>\n",
       "      <td>0.751646</td>\n",
       "    </tr>\n",
       "    <tr>\n",
       "      <th>99998</th>\n",
       "      <td>M</td>\n",
       "      <td>unemployed</td>\n",
       "      <td>0</td>\n",
       "      <td>32654</td>\n",
       "      <td>0.000000</td>\n",
       "    </tr>\n",
       "    <tr>\n",
       "      <th>99999</th>\n",
       "      <td>F</td>\n",
       "      <td>employed</td>\n",
       "      <td>1</td>\n",
       "      <td>7415</td>\n",
       "      <td>0.000000</td>\n",
       "    </tr>\n",
       "  </tbody>\n",
       "</table>\n",
       "<p>100000 rows × 5 columns</p>\n",
       "</div>"
      ],
      "text/plain": [
       "      sex  employment  married  income  digital3\n",
       "0       M    employed        0   29758  0.000000\n",
       "1       F     retired        1    6140  0.000000\n",
       "2       F    employed        1   27186  0.000000\n",
       "3       M    employed        1    8429  0.734011\n",
       "4       M     retired        1    2820  0.000000\n",
       "...    ..         ...      ...     ...       ...\n",
       "99995   M     retired        1    9027  0.213033\n",
       "99996   M     student        0    6229  0.698103\n",
       "99997   M    employed        1    6471  0.751646\n",
       "99998   M  unemployed        0   32654  0.000000\n",
       "99999   F    employed        1    7415  0.000000\n",
       "\n",
       "[100000 rows x 5 columns]"
      ]
     },
     "execution_count": 24,
     "metadata": {},
     "output_type": "execute_result"
    }
   ],
   "source": [
    "df"
   ]
  },
  {
   "cell_type": "code",
   "execution_count": 25,
   "metadata": {},
   "outputs": [],
   "source": [
    "df[\"log_income\"] = np.log1p(df[\"income\"])\n",
    "df[\"income\"] = StandardScaler().fit_transform(df[\"income\"].values.reshape(-1, 1))\n",
    "df = pd.get_dummies(df, columns=[\"employment\", \"sex\"], drop_first=True)\n"
   ]
  },
  {
   "cell_type": "code",
   "execution_count": 26,
   "metadata": {},
   "outputs": [
    {
     "data": {
      "text/html": [
       "<div>\n",
       "<style scoped>\n",
       "    .dataframe tbody tr th:only-of-type {\n",
       "        vertical-align: middle;\n",
       "    }\n",
       "\n",
       "    .dataframe tbody tr th {\n",
       "        vertical-align: top;\n",
       "    }\n",
       "\n",
       "    .dataframe thead th {\n",
       "        text-align: right;\n",
       "    }\n",
       "</style>\n",
       "<table border=\"1\" class=\"dataframe\">\n",
       "  <thead>\n",
       "    <tr style=\"text-align: right;\">\n",
       "      <th></th>\n",
       "      <th>married</th>\n",
       "      <th>income</th>\n",
       "      <th>digital3</th>\n",
       "      <th>log_income</th>\n",
       "      <th>employment_retired</th>\n",
       "      <th>employment_student</th>\n",
       "      <th>employment_unemployed</th>\n",
       "      <th>sex_M</th>\n",
       "      <th>PCA1</th>\n",
       "      <th>PCA2</th>\n",
       "    </tr>\n",
       "  </thead>\n",
       "  <tbody>\n",
       "    <tr>\n",
       "      <th>0</th>\n",
       "      <td>0</td>\n",
       "      <td>0.222847</td>\n",
       "      <td>0.000000</td>\n",
       "      <td>10.300887</td>\n",
       "      <td>False</td>\n",
       "      <td>False</td>\n",
       "      <td>False</td>\n",
       "      <td>True</td>\n",
       "      <td>2.443820</td>\n",
       "      <td>0.019120</td>\n",
       "    </tr>\n",
       "    <tr>\n",
       "      <th>1</th>\n",
       "      <td>1</td>\n",
       "      <td>-0.254171</td>\n",
       "      <td>0.000000</td>\n",
       "      <td>8.722743</td>\n",
       "      <td>True</td>\n",
       "      <td>False</td>\n",
       "      <td>False</td>\n",
       "      <td>False</td>\n",
       "      <td>0.866873</td>\n",
       "      <td>-0.389824</td>\n",
       "    </tr>\n",
       "    <tr>\n",
       "      <th>2</th>\n",
       "      <td>1</td>\n",
       "      <td>0.170900</td>\n",
       "      <td>0.000000</td>\n",
       "      <td>10.210494</td>\n",
       "      <td>False</td>\n",
       "      <td>False</td>\n",
       "      <td>False</td>\n",
       "      <td>False</td>\n",
       "      <td>2.373644</td>\n",
       "      <td>-0.066049</td>\n",
       "    </tr>\n",
       "    <tr>\n",
       "      <th>3</th>\n",
       "      <td>1</td>\n",
       "      <td>-0.207940</td>\n",
       "      <td>0.734011</td>\n",
       "      <td>9.039552</td>\n",
       "      <td>False</td>\n",
       "      <td>False</td>\n",
       "      <td>False</td>\n",
       "      <td>True</td>\n",
       "      <td>1.175623</td>\n",
       "      <td>-0.310462</td>\n",
       "    </tr>\n",
       "    <tr>\n",
       "      <th>4</th>\n",
       "      <td>1</td>\n",
       "      <td>-0.321226</td>\n",
       "      <td>0.000000</td>\n",
       "      <td>7.944847</td>\n",
       "      <td>True</td>\n",
       "      <td>False</td>\n",
       "      <td>False</td>\n",
       "      <td>True</td>\n",
       "      <td>0.096232</td>\n",
       "      <td>-0.370588</td>\n",
       "    </tr>\n",
       "  </tbody>\n",
       "</table>\n",
       "</div>"
      ],
      "text/plain": [
       "   married    income  digital3  log_income  employment_retired  \\\n",
       "0        0  0.222847  0.000000   10.300887               False   \n",
       "1        1 -0.254171  0.000000    8.722743                True   \n",
       "2        1  0.170900  0.000000   10.210494               False   \n",
       "3        1 -0.207940  0.734011    9.039552               False   \n",
       "4        1 -0.321226  0.000000    7.944847                True   \n",
       "\n",
       "   employment_student  employment_unemployed  sex_M      PCA1      PCA2  \n",
       "0               False                  False   True  2.443820  0.019120  \n",
       "1               False                  False  False  0.866873 -0.389824  \n",
       "2               False                  False  False  2.373644 -0.066049  \n",
       "3               False                  False   True  1.175623 -0.310462  \n",
       "4               False                  False   True  0.096232 -0.370588  "
      ]
     },
     "execution_count": 26,
     "metadata": {},
     "output_type": "execute_result"
    }
   ],
   "source": [
    "# Load PCA model\n",
    "pca = joblib.load(\"pca_model.pkl\")\n",
    "\n",
    "# Apply PCA\n",
    "X_pca = pca.transform(df)\n",
    "\n",
    "# Create a DataFrame with the PCA features\n",
    "X_pca_df = pd.DataFrame(X_pca, columns=[\"PCA1\", \"PCA2\"])\n",
    "\n",
    "X = pd.concat([df, X_pca_df], axis=1)\n",
    "\n",
    "X.head()"
   ]
  },
  {
   "cell_type": "code",
   "execution_count": 27,
   "metadata": {},
   "outputs": [],
   "source": [
    "# import the calibrated pipeline\n",
    "pipeline = joblib.load(\"calibrated_mlp_model_pipeline.pkl\")"
   ]
  },
  {
   "cell_type": "code",
   "execution_count": 28,
   "metadata": {},
   "outputs": [],
   "source": [
    "# Predict the probability of default\n",
    "y_pred = pipeline.predict_proba(X)[:, 1]\n"
   ]
  },
  {
   "cell_type": "code",
   "execution_count": 29,
   "metadata": {},
   "outputs": [],
   "source": [
    "# Create a DataFrame with the predictions\n",
    "predictions = pd.DataFrame(y_pred, columns=[\"estimated_probability_of_default\"])\n",
    "predictions = pd.concat([df, predictions], axis=1)"
   ]
  },
  {
   "cell_type": "code",
   "execution_count": 30,
   "metadata": {},
   "outputs": [
    {
     "data": {
      "text/html": [
       "<div>\n",
       "<style scoped>\n",
       "    .dataframe tbody tr th:only-of-type {\n",
       "        vertical-align: middle;\n",
       "    }\n",
       "\n",
       "    .dataframe tbody tr th {\n",
       "        vertical-align: top;\n",
       "    }\n",
       "\n",
       "    .dataframe thead th {\n",
       "        text-align: right;\n",
       "    }\n",
       "</style>\n",
       "<table border=\"1\" class=\"dataframe\">\n",
       "  <thead>\n",
       "    <tr style=\"text-align: right;\">\n",
       "      <th></th>\n",
       "      <th>married</th>\n",
       "      <th>income</th>\n",
       "      <th>digital3</th>\n",
       "      <th>log_income</th>\n",
       "      <th>employment_retired</th>\n",
       "      <th>employment_student</th>\n",
       "      <th>employment_unemployed</th>\n",
       "      <th>sex_M</th>\n",
       "      <th>estimated_probability_of_default</th>\n",
       "    </tr>\n",
       "  </thead>\n",
       "  <tbody>\n",
       "    <tr>\n",
       "      <th>0</th>\n",
       "      <td>0</td>\n",
       "      <td>0.222847</td>\n",
       "      <td>0.000000</td>\n",
       "      <td>10.300887</td>\n",
       "      <td>False</td>\n",
       "      <td>False</td>\n",
       "      <td>False</td>\n",
       "      <td>True</td>\n",
       "      <td>0.021763</td>\n",
       "    </tr>\n",
       "    <tr>\n",
       "      <th>1</th>\n",
       "      <td>1</td>\n",
       "      <td>-0.254171</td>\n",
       "      <td>0.000000</td>\n",
       "      <td>8.722743</td>\n",
       "      <td>True</td>\n",
       "      <td>False</td>\n",
       "      <td>False</td>\n",
       "      <td>False</td>\n",
       "      <td>0.150297</td>\n",
       "    </tr>\n",
       "    <tr>\n",
       "      <th>2</th>\n",
       "      <td>1</td>\n",
       "      <td>0.170900</td>\n",
       "      <td>0.000000</td>\n",
       "      <td>10.210494</td>\n",
       "      <td>False</td>\n",
       "      <td>False</td>\n",
       "      <td>False</td>\n",
       "      <td>False</td>\n",
       "      <td>0.036447</td>\n",
       "    </tr>\n",
       "    <tr>\n",
       "      <th>3</th>\n",
       "      <td>1</td>\n",
       "      <td>-0.207940</td>\n",
       "      <td>0.734011</td>\n",
       "      <td>9.039552</td>\n",
       "      <td>False</td>\n",
       "      <td>False</td>\n",
       "      <td>False</td>\n",
       "      <td>True</td>\n",
       "      <td>0.073309</td>\n",
       "    </tr>\n",
       "    <tr>\n",
       "      <th>4</th>\n",
       "      <td>1</td>\n",
       "      <td>-0.321226</td>\n",
       "      <td>0.000000</td>\n",
       "      <td>7.944847</td>\n",
       "      <td>True</td>\n",
       "      <td>False</td>\n",
       "      <td>False</td>\n",
       "      <td>True</td>\n",
       "      <td>0.247205</td>\n",
       "    </tr>\n",
       "    <tr>\n",
       "      <th>...</th>\n",
       "      <td>...</td>\n",
       "      <td>...</td>\n",
       "      <td>...</td>\n",
       "      <td>...</td>\n",
       "      <td>...</td>\n",
       "      <td>...</td>\n",
       "      <td>...</td>\n",
       "      <td>...</td>\n",
       "      <td>...</td>\n",
       "    </tr>\n",
       "    <tr>\n",
       "      <th>99995</th>\n",
       "      <td>1</td>\n",
       "      <td>-0.195862</td>\n",
       "      <td>0.213033</td>\n",
       "      <td>9.108086</td>\n",
       "      <td>True</td>\n",
       "      <td>False</td>\n",
       "      <td>False</td>\n",
       "      <td>True</td>\n",
       "      <td>0.067391</td>\n",
       "    </tr>\n",
       "    <tr>\n",
       "      <th>99996</th>\n",
       "      <td>0</td>\n",
       "      <td>-0.252374</td>\n",
       "      <td>0.698103</td>\n",
       "      <td>8.737132</td>\n",
       "      <td>False</td>\n",
       "      <td>True</td>\n",
       "      <td>False</td>\n",
       "      <td>True</td>\n",
       "      <td>0.082756</td>\n",
       "    </tr>\n",
       "    <tr>\n",
       "      <th>99997</th>\n",
       "      <td>1</td>\n",
       "      <td>-0.247486</td>\n",
       "      <td>0.751646</td>\n",
       "      <td>8.775240</td>\n",
       "      <td>False</td>\n",
       "      <td>False</td>\n",
       "      <td>False</td>\n",
       "      <td>True</td>\n",
       "      <td>0.104658</td>\n",
       "    </tr>\n",
       "    <tr>\n",
       "      <th>99998</th>\n",
       "      <td>0</td>\n",
       "      <td>0.281339</td>\n",
       "      <td>0.000000</td>\n",
       "      <td>10.393753</td>\n",
       "      <td>False</td>\n",
       "      <td>False</td>\n",
       "      <td>True</td>\n",
       "      <td>True</td>\n",
       "      <td>0.013887</td>\n",
       "    </tr>\n",
       "    <tr>\n",
       "      <th>99999</th>\n",
       "      <td>1</td>\n",
       "      <td>-0.228420</td>\n",
       "      <td>0.000000</td>\n",
       "      <td>8.911395</td>\n",
       "      <td>False</td>\n",
       "      <td>False</td>\n",
       "      <td>False</td>\n",
       "      <td>False</td>\n",
       "      <td>0.211645</td>\n",
       "    </tr>\n",
       "  </tbody>\n",
       "</table>\n",
       "<p>100000 rows × 9 columns</p>\n",
       "</div>"
      ],
      "text/plain": [
       "       married    income  digital3  log_income  employment_retired  \\\n",
       "0            0  0.222847  0.000000   10.300887               False   \n",
       "1            1 -0.254171  0.000000    8.722743                True   \n",
       "2            1  0.170900  0.000000   10.210494               False   \n",
       "3            1 -0.207940  0.734011    9.039552               False   \n",
       "4            1 -0.321226  0.000000    7.944847                True   \n",
       "...        ...       ...       ...         ...                 ...   \n",
       "99995        1 -0.195862  0.213033    9.108086                True   \n",
       "99996        0 -0.252374  0.698103    8.737132               False   \n",
       "99997        1 -0.247486  0.751646    8.775240               False   \n",
       "99998        0  0.281339  0.000000   10.393753               False   \n",
       "99999        1 -0.228420  0.000000    8.911395               False   \n",
       "\n",
       "       employment_student  employment_unemployed  sex_M  \\\n",
       "0                   False                  False   True   \n",
       "1                   False                  False  False   \n",
       "2                   False                  False  False   \n",
       "3                   False                  False   True   \n",
       "4                   False                  False   True   \n",
       "...                   ...                    ...    ...   \n",
       "99995               False                  False   True   \n",
       "99996                True                  False   True   \n",
       "99997               False                  False   True   \n",
       "99998               False                   True   True   \n",
       "99999               False                  False  False   \n",
       "\n",
       "       estimated_probability_of_default  \n",
       "0                              0.021763  \n",
       "1                              0.150297  \n",
       "2                              0.036447  \n",
       "3                              0.073309  \n",
       "4                              0.247205  \n",
       "...                                 ...  \n",
       "99995                          0.067391  \n",
       "99996                          0.082756  \n",
       "99997                          0.104658  \n",
       "99998                          0.013887  \n",
       "99999                          0.211645  \n",
       "\n",
       "[100000 rows x 9 columns]"
      ]
     },
     "execution_count": 30,
     "metadata": {},
     "output_type": "execute_result"
    }
   ],
   "source": [
    "predictions"
   ]
  },
  {
   "cell_type": "code",
   "execution_count": 31,
   "metadata": {},
   "outputs": [
    {
     "data": {
      "image/png": "[encoded data removed]",
      "text/plain": [
       "<Figure size 640x480 with 1 Axes>"
      ]
     },
     "metadata": {},
     "output_type": "display_data"
    }
   ],
   "source": [
    "# Plot the distribution of the estimated probability of default\n",
    "sns.histplot(predictions[\"estimated_probability_of_default\"], bins=30, kde=True)\n",
    "plt.xlabel(\"Estimated probability of default\")\n",
    "plt.ylabel(\"Frequency\")\n",
    "plt.title(\"Estimated probability of default distribution\")\n",
    "plt.show()\n"
   ]
  },
  {
   "cell_type": "markdown",
   "metadata": {},
   "source": [
    "This distribution pattern is very similar to what was seen in the test set, which indicates that the model generalizes well and is consistent in predicting probabilities for new applicants."
   ]
  },
  {
   "cell_type": "markdown",
   "metadata": {},
   "source": [
    "Interest Rate Calculation Based on Predicted Probabilities:\n",
    "\n",
    "Use the break-even interest rate formula for each applicant:\n",
    "$$\n",
    "r_i = \\frac{PD_i}{1 - PD_i}\n",
    "$$\n",
    "\n",
    "where $PD_i$ is the predicted probability of default for applicant $i$.\n",
    "\n",
    "We can then adjust the interest rate to include a risk premium based on business strategy.\n",
    "\n",
    "Risk Segmentation:\n",
    "Three categories of borrowers:\n",
    "- **Low risk**: Borrowers with $< 0.10$ : 3%\n",
    "- **Moderate risk**: Borrowers with $PD$ between $0.10$ and $0.25$ : 4%\n",
    "- **High risk**: Borrowers with $PD > 0.25$ : No offer"
   ]
  },
  {
   "cell_type": "code",
   "execution_count": 32,
   "metadata": {},
   "outputs": [],
   "source": [
    "def calculate_breakeven_rate(pd):\n",
    "    return pd / (1 - pd)\n"
   ]
  },
  {
   "cell_type": "code",
   "execution_count": 33,
   "metadata": {},
   "outputs": [],
   "source": [
    "# Calculate the breakeven rate\n",
    "predictions[\"breakeven_rate\"] = calculate_breakeven_rate(\n",
    "    predictions[\"estimated_probability_of_default\"]\n",
    ")\n"
   ]
  },
  {
   "cell_type": "code",
   "execution_count": 34,
   "metadata": {},
   "outputs": [
    {
     "data": {
      "image/png": "[encoded data removed]",
      "text/plain": [
       "<Figure size 640x480 with 1 Axes>"
      ]
     },
     "metadata": {},
     "output_type": "display_data"
    }
   ],
   "source": [
    "# Plot break-even rate distribution\n",
    "sns.histplot(predictions[\"breakeven_rate\"], bins=30, kde=True)\n",
    "plt.xlabel(\"Breakeven rate\")\n",
    "plt.ylabel(\"Frequency\")\n",
    "plt.title(\"Breakeven rate distribution\")\n",
    "plt.show()\n"
   ]
  },
  {
   "cell_type": "code",
   "execution_count": 35,
   "metadata": {},
   "outputs": [],
   "source": [
    "# Calculate interest rate\n",
    "def calculate_interest_rate(pd):\n",
    "    if pd < 0.1:\n",
    "        return pd + 0.03\n",
    "    elif pd < 0.25:\n",
    "        return pd + 0.04\n",
    "    else:\n",
    "        return None"
   ]
  },
  {
   "cell_type": "code",
   "execution_count": 37,
   "metadata": {},
   "outputs": [],
   "source": [
    "predictions[\"interest_rate\"] = predictions[\"estimated_probability_of_default\"].apply(\n",
    "    calculate_interest_rate\n",
    ")"
   ]
  },
  {
   "cell_type": "code",
   "execution_count": 38,
   "metadata": {},
   "outputs": [
    {
     "data": {
      "image/png": "[encoded data removed]",
      "text/plain": [
       "<Figure size 640x480 with 1 Axes>"
      ]
     },
     "metadata": {},
     "output_type": "display_data"
    }
   ],
   "source": [
    "# Plot interest rate distribution\n",
    "sns.histplot(predictions[\"interest_rate\"], bins=30, kde=True)\n",
    "plt.xlabel(\"Interest rate\")\n",
    "plt.ylabel(\"Frequency\")\n",
    "plt.title(\"Interest rate distribution\")\n",
    "plt.show()\n"
   ]
  },
  {
   "cell_type": "code",
   "execution_count": 50,
   "metadata": {},
   "outputs": [],
   "source": [
    "# Calculate the expected profit\n",
    "def calculate_expected_profit(pd, loan_amount, interest_rate):\n",
    "    if interest_rate is None:\n",
    "        return None\n",
    "    else:\n",
    "        return loan_amount * (interest_rate - pd)"
   ]
  },
  {
   "cell_type": "code",
   "execution_count": 49,
   "metadata": {},
   "outputs": [
    {
     "name": "stdout",
     "output_type": "stream",
     "text": [
      "Total expected profit with no competition: 31716700.00\n",
      "Total expected profit with equal competition: 10572233.33\n"
     ]
    }
   ],
   "source": [
    "loan_amount = 10000\n",
    "predictions[\"expected_profit\"] = predictions.apply(\n",
    "    lambda x: calculate_expected_profit(\n",
    "        x[\"estimated_probability_of_default\"], loan_amount, x[\"interest_rate\"]\n",
    "    ),\n",
    "    axis=1,\n",
    ")\n",
    "\n",
    "# Total expected profit\n",
    "total_expected_profit = predictions[\"expected_profit\"].sum()\n",
    "print(f\"Total expected profit with no competition: {total_expected_profit:.2f}\")\n",
    "\n",
    "# Calculate the expected profit with equal competition\n",
    "print(f\"Total expected profit with equal competition: {total_expected_profit / 3:.2f}\")\n"
   ]
  },
  {
   "cell_type": "code",
   "execution_count": 59,
   "metadata": {},
   "outputs": [],
   "source": [
    "# Create final submissions dataframe\n",
    "submissions = pd.DataFrame({\"id\": id, \"rate\": predictions[\"interest_rate\"]})"
   ]
  },
  {
   "cell_type": "code",
   "execution_count": 61,
   "metadata": {},
   "outputs": [],
   "source": [
    "submissions.to_csv(\"submissions.csv\", index=False)"
   ]
  }
 ],
 "metadata": {
  "kernelspec": {
   "display_name": "fairness",
   "language": "python",
   "name": "python3"
  },
  "language_info": {
   "codemirror_mode": {
    "name": "ipython",
    "version": 3
   },
   "file_extension": ".py",
   "mimetype": "text/x-python",
   "name": "python",
   "nbconvert_exporter": "python",
   "pygments_lexer": "ipython3",
   "version": "3.12.3"
  }
 },
 "nbformat": 4,
 "nbformat_minor": 2
}
